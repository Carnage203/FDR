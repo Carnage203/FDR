{
 "cells": [
  {
   "cell_type": "code",
   "execution_count": 1,
   "metadata": {},
   "outputs": [
    {
     "name": "stdout",
     "output_type": "stream",
     "text": [
      "Requirement already satisfied: opencv-python in d:\\object_detection\\tfod\\tfod\\lib\\site-packages (4.10.0.84)\n",
      "Requirement already satisfied: numpy>=1.21.2 in d:\\object_detection\\tfod\\tfod\\lib\\site-packages (from opencv-python) (2.0.0)\n",
      "Requirement already satisfied: numpy in d:\\object_detection\\tfod\\tfod\\lib\\site-packages (2.0.0)\n"
     ]
    }
   ],
   "source": [
    "!pip install opencv-python\n",
    "!pip install numpy"
   ]
  },
  {
   "cell_type": "code",
   "execution_count": 1,
   "metadata": {},
   "outputs": [],
   "source": [
    "# Import opencv\n",
    "import cv2 \n",
    "\n",
    "# Import uuid\n",
    "import uuid\n",
    "\n",
    "# Import Operating System\n",
    "import os\n",
    "\n",
    "# Import time\n",
    "import time"
   ]
  },
  {
   "cell_type": "code",
   "execution_count": 2,
   "metadata": {},
   "outputs": [],
   "source": [
    "labels = ['KNOWN']\n",
    "number_imgs = 10"
   ]
  },
  {
   "cell_type": "code",
   "execution_count": 3,
   "metadata": {},
   "outputs": [],
   "source": [
    "IMAGES_PATH = os.path.join('Tensorflow', 'workspace', 'images', 'collectedimages')"
   ]
  },
  {
   "cell_type": "code",
   "execution_count": 4,
   "metadata": {},
   "outputs": [],
   "source": [
    "if not os.path.exists(IMAGES_PATH):\n",
    "    if os.name == 'posix':\n",
    "        !mkdir -p {IMAGES_PATH}\n",
    "    if os.name == 'nt':\n",
    "         !mkdir {IMAGES_PATH}\n",
    "for label in labels:\n",
    "    path = os.path.join(IMAGES_PATH, label)\n",
    "    if not os.path.exists(path):\n",
    "        !mkdir {path}"
   ]
  },
  {
   "cell_type": "code",
   "execution_count": 7,
   "metadata": {},
   "outputs": [
    {
     "name": "stdout",
     "output_type": "stream",
     "text": [
      "Collecting images for KNOWN\n",
      "Collecting image 0\n",
      "Collecting image 1\n",
      "Collecting image 2\n",
      "Collecting image 3\n",
      "Collecting image 4\n",
      "Collecting image 5\n",
      "Collecting image 6\n",
      "Collecting image 7\n",
      "Collecting image 8\n",
      "Collecting image 9\n"
     ]
    }
   ],
   "source": [
    "for label in labels:\n",
    "    cap = cv2.VideoCapture(0)\n",
    "    print('Collecting images for {}'.format(label))\n",
    "    time.sleep(5)\n",
    "    for imgnum in range(number_imgs):\n",
    "        print('Collecting image {}'.format(imgnum))\n",
    "        ret, frame = cap.read()\n",
    "        imgname = os.path.join(IMAGES_PATH,label,label+'.'+'{}.jpg'.format(str(uuid.uuid1())))\n",
    "        cv2.imwrite(imgname, frame)\n",
    "        cv2.imshow('frame', frame)\n",
    "        time.sleep(2)\n",
    "\n",
    "        if cv2.waitKey(1) & 0xFF == ord('q'):\n",
    "            break\n",
    "cap.release()\n",
    "cv2.destroyAllWindows()"
   ]
  },
  {
   "cell_type": "code",
   "execution_count": 8,
   "metadata": {
    "scrolled": true
   },
   "outputs": [
    {
     "name": "stdout",
     "output_type": "stream",
     "text": [
      "Collecting pyqt5\n",
      "  Using cached PyQt5-5.15.10-cp37-abi3-win_amd64.whl.metadata (2.2 kB)\n",
      "Collecting lxml\n",
      "  Using cached lxml-5.2.2-cp311-cp311-win_amd64.whl.metadata (3.5 kB)\n",
      "Collecting PyQt5-sip<13,>=12.13 (from pyqt5)\n",
      "  Downloading PyQt5_sip-12.15.0-cp311-cp311-win_amd64.whl.metadata (439 bytes)\n",
      "Collecting PyQt5-Qt5>=5.15.2 (from pyqt5)\n",
      "  Using cached PyQt5_Qt5-5.15.2-py3-none-win_amd64.whl.metadata (552 bytes)\n",
      "Using cached PyQt5-5.15.10-cp37-abi3-win_amd64.whl (6.8 MB)\n",
      "Using cached lxml-5.2.2-cp311-cp311-win_amd64.whl (3.8 MB)\n",
      "Using cached PyQt5_Qt5-5.15.2-py3-none-win_amd64.whl (50.1 MB)\n",
      "Downloading PyQt5_sip-12.15.0-cp311-cp311-win_amd64.whl (59 kB)\n",
      "   ---------------------------------------- 0.0/59.0 kB ? eta -:--:--\n",
      "   --------------------------- ------------ 41.0/59.0 kB 991.0 kB/s eta 0:00:01\n",
      "   ---------------------------------------- 59.0/59.0 kB 518.8 kB/s eta 0:00:00\n",
      "Installing collected packages: PyQt5-Qt5, PyQt5-sip, lxml, pyqt5\n",
      "Successfully installed PyQt5-Qt5-5.15.2 PyQt5-sip-12.15.0 lxml-5.2.2 pyqt5-5.15.10\n"
     ]
    }
   ],
   "source": [
    "!pip install --upgrade pyqt5 lxml"
   ]
  },
  {
   "cell_type": "code",
   "execution_count": 9,
   "metadata": {},
   "outputs": [],
   "source": [
    "LABELIMG_PATH = os.path.join('Tensorflow', 'labelimg')"
   ]
  },
  {
   "cell_type": "code",
   "execution_count": 10,
   "metadata": {},
   "outputs": [],
   "source": [
    "if not os.path.exists(LABELIMG_PATH):\n",
    "    !mkdir {LABELIMG_PATH}\n",
    "    !git clone https://github.com/tzutalin/labelImg {LABELIMG_PATH}"
   ]
  },
  {
   "cell_type": "code",
   "execution_count": 5,
   "metadata": {},
   "outputs": [],
   "source": [
    "if os.name == 'posix':\n",
    "    !make qt5py3\n",
    "if os.name =='nt':\n",
    "    !cd {LABELIMG_PATH} && pyrcc5 -o libs/resources.py resources.qrc"
   ]
  },
  {
   "cell_type": "code",
   "execution_count": 10,
   "metadata": {},
   "outputs": [
    {
     "name": "stdout",
     "output_type": "stream",
     "text": [
      "Image:D:\\Object_Detection\\TFOD\\Tensorflow\\workspace\\images\\collectedimages\\KNOWN\\KNOWN.01b4626b-42a4-11ef-87ae-b48c9d2ca79a.jpg -> Annotation:D:/Object_Detection/TFOD/Tensorflow/workspace/images/collectedimages/KNOWN\\KNOWN.01b4626b-42a4-11ef-87ae-b48c9d2ca79a.xml\n",
      "Image:D:\\Object_Detection\\TFOD\\Tensorflow\\workspace\\images\\collectedimages\\KNOWN\\KNOWN.02e814d9-42a4-11ef-b338-b48c9d2ca79a.jpg -> Annotation:D:/Object_Detection/TFOD/Tensorflow/workspace/images/collectedimages/KNOWN\\KNOWN.02e814d9-42a4-11ef-b338-b48c9d2ca79a.xml\n",
      "Image:D:\\Object_Detection\\TFOD\\Tensorflow\\workspace\\images\\collectedimages\\KNOWN\\KNOWN.00811607-42a4-11ef-8f9d-b48c9d2ca79a.jpg -> Annotation:D:/Object_Detection/TFOD/Tensorflow/workspace/images/collectedimages/KNOWN\\KNOWN.00811607-42a4-11ef-8f9d-b48c9d2ca79a.xml\n",
      "Image:D:\\Object_Detection\\TFOD\\Tensorflow\\workspace\\images\\collectedimages\\KNOWN\\KNOWN.d3ab9cd7-42a3-11ef-9db3-b48c9d2ca79a.jpg -> Annotation:D:/Object_Detection/TFOD/Tensorflow/workspace/images/collectedimages/KNOWN\\KNOWN.d3ab9cd7-42a3-11ef-9db3-b48c9d2ca79a.xml\n",
      "Image:D:\\Object_Detection\\TFOD\\Tensorflow\\workspace\\images\\collectedimages\\KNOWN\\KNOWN.d4de6764-42a3-11ef-8f23-b48c9d2ca79a.jpg -> Annotation:D:/Object_Detection/TFOD/Tensorflow/workspace/images/collectedimages/KNOWN\\KNOWN.d4de6764-42a3-11ef-8f23-b48c9d2ca79a.xml\n",
      "Image:D:\\Object_Detection\\TFOD\\Tensorflow\\workspace\\images\\collectedimages\\KNOWN\\KNOWN.d9ad3738-42a3-11ef-87d0-b48c9d2ca79a.jpg -> Annotation:D:/Object_Detection/TFOD/Tensorflow/workspace/images/collectedimages/KNOWN\\KNOWN.d9ad3738-42a3-11ef-87d0-b48c9d2ca79a.xml\n",
      "Image:D:\\Object_Detection\\TFOD\\Tensorflow\\workspace\\images\\collectedimages\\KNOWN\\KNOWN.d140fd53-42a3-11ef-a59d-b48c9d2ca79a.jpg -> Annotation:D:/Object_Detection/TFOD/Tensorflow/workspace/images/collectedimages/KNOWN\\KNOWN.d140fd53-42a3-11ef-a59d-b48c9d2ca79a.xml\n",
      "Image:D:\\Object_Detection\\TFOD\\Tensorflow\\workspace\\images\\collectedimages\\KNOWN\\KNOWN.d276e2a9-42a3-11ef-8541-b48c9d2ca79a.jpg -> Annotation:D:/Object_Detection/TFOD/Tensorflow/workspace/images/collectedimages/KNOWN\\KNOWN.d276e2a9-42a3-11ef-8541-b48c9d2ca79a.xml\n",
      "Image:D:\\Object_Detection\\TFOD\\Tensorflow\\workspace\\images\\collectedimages\\KNOWN\\KNOWN.d745e2e5-42a3-11ef-baeb-b48c9d2ca79a.jpg -> Annotation:D:/Object_Detection/TFOD/Tensorflow/workspace/images/collectedimages/KNOWN\\KNOWN.d745e2e5-42a3-11ef-baeb-b48c9d2ca79a.xml\n",
      "Image:D:\\Object_Detection\\TFOD\\Tensorflow\\workspace\\images\\collectedimages\\KNOWN\\KNOWN.d61208a3-42a3-11ef-8c41-b48c9d2ca79a.jpg -> Annotation:D:/Object_Detection/TFOD/Tensorflow/workspace/images/collectedimages/KNOWN\\KNOWN.d61208a3-42a3-11ef-8c41-b48c9d2ca79a.xml\n",
      "Image:D:\\Object_Detection\\TFOD\\Tensorflow\\workspace\\images\\collectedimages\\KNOWN\\KNOWN.d8797694-42a3-11ef-8eef-b48c9d2ca79a.jpg -> Annotation:D:/Object_Detection/TFOD/Tensorflow/workspace/images/collectedimages/KNOWN\\KNOWN.d8797694-42a3-11ef-8eef-b48c9d2ca79a.xml\n",
      "Image:D:\\Object_Detection\\TFOD\\Tensorflow\\workspace\\images\\collectedimages\\KNOWN\\KNOWN.e7b2fd7b-42a3-11ef-a736-b48c9d2ca79a.jpg -> Annotation:D:/Object_Detection/TFOD/Tensorflow/workspace/images/collectedimages/KNOWN\\KNOWN.e7b2fd7b-42a3-11ef-a736-b48c9d2ca79a.xml\n",
      "Image:D:\\Object_Detection\\TFOD\\Tensorflow\\workspace\\images\\collectedimages\\KNOWN\\KNOWN.e8ea31b6-42a3-11ef-9be5-b48c9d2ca79a.jpg -> Annotation:D:/Object_Detection/TFOD/Tensorflow/workspace/images/collectedimages/KNOWN\\KNOWN.e8ea31b6-42a3-11ef-9be5-b48c9d2ca79a.xml\n",
      "Image:D:\\Object_Detection\\TFOD\\Tensorflow\\workspace\\images\\collectedimages\\KNOWN\\KNOWN.e67f36e1-42a3-11ef-88c9-b48c9d2ca79a.jpg -> Annotation:D:/Object_Detection/TFOD/Tensorflow/workspace/images/collectedimages/KNOWN\\KNOWN.e67f36e1-42a3-11ef-88c9-b48c9d2ca79a.xml\n",
      "Image:D:\\Object_Detection\\TFOD\\Tensorflow\\workspace\\images\\collectedimages\\KNOWN\\KNOWN.e4141a34-42a3-11ef-af57-b48c9d2ca79a.jpg -> Annotation:D:/Object_Detection/TFOD/Tensorflow/workspace/images/collectedimages/KNOWN\\KNOWN.e4141a34-42a3-11ef-af57-b48c9d2ca79a.xml\n",
      "Image:D:\\Object_Detection\\TFOD\\Tensorflow\\workspace\\images\\collectedimages\\KNOWN\\KNOWN.e5490ed1-42a3-11ef-ba42-b48c9d2ca79a.jpg -> Annotation:D:/Object_Detection/TFOD/Tensorflow/workspace/images/collectedimages/KNOWN\\KNOWN.e5490ed1-42a3-11ef-ba42-b48c9d2ca79a.xml\n",
      "Image:D:\\Object_Detection\\TFOD\\Tensorflow\\workspace\\images\\collectedimages\\KNOWN\\KNOWN.ea1f2016-42a3-11ef-8884-b48c9d2ca79a.jpg -> Annotation:D:/Object_Detection/TFOD/Tensorflow/workspace/images/collectedimages/KNOWN\\KNOWN.ea1f2016-42a3-11ef-8884-b48c9d2ca79a.xml\n",
      "Image:D:\\Object_Detection\\TFOD\\Tensorflow\\workspace\\images\\collectedimages\\KNOWN\\KNOWN.eb52c227-42a3-11ef-b61d-b48c9d2ca79a.jpg -> Annotation:D:/Object_Detection/TFOD/Tensorflow/workspace/images/collectedimages/KNOWN\\KNOWN.eb52c227-42a3-11ef-b61d-b48c9d2ca79a.xml\n",
      "Image:D:\\Object_Detection\\TFOD\\Tensorflow\\workspace\\images\\collectedimages\\KNOWN\\KNOWN.ec8682d1-42a3-11ef-b103-b48c9d2ca79a.jpg -> Annotation:D:/Object_Detection/TFOD/Tensorflow/workspace/images/collectedimages/KNOWN\\KNOWN.ec8682d1-42a3-11ef-b103-b48c9d2ca79a.xml\n",
      "Image:D:\\Object_Detection\\TFOD\\Tensorflow\\workspace\\images\\collectedimages\\KNOWN\\KNOWN.edba2b4d-42a3-11ef-9984-b48c9d2ca79a.jpg -> Annotation:D:/Object_Detection/TFOD/Tensorflow/workspace/images/collectedimages/KNOWN\\KNOWN.edba2b4d-42a3-11ef-9984-b48c9d2ca79a.xml\n",
      "Image:D:\\Object_Detection\\TFOD\\Tensorflow\\workspace\\images\\collectedimages\\KNOWN\\KNOWN.eeed665a-42a3-11ef-b0b9-b48c9d2ca79a.jpg -> Annotation:D:/Object_Detection/TFOD/Tensorflow/workspace/images/collectedimages/KNOWN\\KNOWN.eeed665a-42a3-11ef-b0b9-b48c9d2ca79a.xml\n",
      "Image:D:\\Object_Detection\\TFOD\\Tensorflow\\workspace\\images\\collectedimages\\KNOWN\\KNOWN.f813c222-42a3-11ef-a4d3-b48c9d2ca79a.jpg -> Annotation:D:/Object_Detection/TFOD/Tensorflow/workspace/images/collectedimages/KNOWN\\KNOWN.f813c222-42a3-11ef-a4d3-b48c9d2ca79a.xml\n",
      "Image:D:\\Object_Detection\\TFOD\\Tensorflow\\workspace\\images\\collectedimages\\KNOWN\\KNOWN.f94882b9-42a3-11ef-817e-b48c9d2ca79a.jpg -> Annotation:D:/Object_Detection/TFOD/Tensorflow/workspace/images/collectedimages/KNOWN\\KNOWN.f94882b9-42a3-11ef-817e-b48c9d2ca79a.xml\n",
      "Image:D:\\Object_Detection\\TFOD\\Tensorflow\\workspace\\images\\collectedimages\\KNOWN\\KNOWN.fa7ef615-42a3-11ef-a1a7-b48c9d2ca79a.jpg -> Annotation:D:/Object_Detection/TFOD/Tensorflow/workspace/images/collectedimages/KNOWN\\KNOWN.fa7ef615-42a3-11ef-a1a7-b48c9d2ca79a.xml\n",
      "Image:D:\\Object_Detection\\TFOD\\Tensorflow\\workspace\\images\\collectedimages\\KNOWN\\KNOWN.fbb31207-42a3-11ef-bfe7-b48c9d2ca79a.jpg -> Annotation:D:/Object_Detection/TFOD/Tensorflow/workspace/images/collectedimages/KNOWN\\KNOWN.fbb31207-42a3-11ef-bfe7-b48c9d2ca79a.xml\n",
      "Image:D:\\Object_Detection\\TFOD\\Tensorflow\\workspace\\images\\collectedimages\\KNOWN\\KNOWN.fce66383-42a3-11ef-8f87-b48c9d2ca79a.jpg -> Annotation:D:/Object_Detection/TFOD/Tensorflow/workspace/images/collectedimages/KNOWN\\KNOWN.fce66383-42a3-11ef-8f87-b48c9d2ca79a.xml\n",
      "Image:D:\\Object_Detection\\TFOD\\Tensorflow\\workspace\\images\\collectedimages\\KNOWN\\KNOWN.fe1a5cb0-42a3-11ef-900c-b48c9d2ca79a.jpg -> Annotation:D:/Object_Detection/TFOD/Tensorflow/workspace/images/collectedimages/KNOWN\\KNOWN.fe1a5cb0-42a3-11ef-900c-b48c9d2ca79a.xml\n",
      "Image:D:\\Object_Detection\\TFOD\\Tensorflow\\workspace\\images\\collectedimages\\KNOWN\\KNOWN.ff4d9662-42a3-11ef-baa2-b48c9d2ca79a.jpg -> Annotation:D:/Object_Detection/TFOD/Tensorflow/workspace/images/collectedimages/KNOWN\\KNOWN.ff4d9662-42a3-11ef-baa2-b48c9d2ca79a.xml\n"
     ]
    }
   ],
   "source": [
    "!cd {LABELIMG_PATH} && python labelImg.py"
   ]
  },
  {
   "cell_type": "markdown",
   "metadata": {},
   "source": [
    "Compress for Colab Training"
   ]
  },
  {
   "cell_type": "code",
   "execution_count": 20,
   "metadata": {},
   "outputs": [],
   "source": [
    "TRAIN_PATH = os.path.join('Tensorflow', 'workspace', 'images', 'train')\n",
    "TEST_PATH = os.path.join('Tensorflow', 'workspace', 'images', 'test')\n",
    "ARCHIVE_PATH = os.path.join('Tensorflow', 'workspace', 'images', 'archive.tar.gz')"
   ]
  },
  {
   "cell_type": "code",
   "execution_count": 21,
   "metadata": {},
   "outputs": [],
   "source": [
    "!tar -czf {ARCHIVE_PATH} {TRAIN_PATH} {TEST_PATH}"
   ]
  }
 ],
 "metadata": {
  "kernelspec": {
   "display_name": "tfod",
   "language": "python",
   "name": "tfod"
  },
  "language_info": {
   "codemirror_mode": {
    "name": "ipython",
    "version": 3
   },
   "file_extension": ".py",
   "mimetype": "text/x-python",
   "name": "python",
   "nbconvert_exporter": "python",
   "pygments_lexer": "ipython3",
   "version": "3.11.5"
  }
 },
 "nbformat": 4,
 "nbformat_minor": 4
}
